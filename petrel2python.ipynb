{
 "cells": [
  {
   "cell_type": "markdown",
   "metadata": {},
   "source": [
    "<img src=\"petrel2python.png\" style=\"width:350px\" align=\"center\">\n",
    "\n",
    "<h1><center>Petrel to Python 1</center></h1>\n",
    "\n",
    "Notebook created by **Manuel David Soto**, E&P Technical Direction. Data, from a Demo project, provided by **Ernesto Tundidor**, Accenture. May 2021"
   ]
  },
  {
   "cell_type": "markdown",
   "metadata": {},
   "source": [
    "## Objective\n",
    "\n",
    "The objective of this notebook is to compare thickness obtained in Petrel from tops and from a seismic surface, and then find the best regression between them.  "
   ]
  },
  {
   "cell_type": "markdown",
   "metadata": {},
   "source": [
    "## Libraries loading"
   ]
  },
  {
   "cell_type": "code",
   "execution_count": 1,
   "metadata": {},
   "outputs": [],
   "source": [
    "import numpy as np\n",
    "import pandas as pd\n",
    "import matplotlib.pyplot as plt\n",
    "\n",
    "from sklearn.metrics import mean_squared_error\n",
    "from sklearn.metrics import r2_score"
   ]
  },
  {
   "cell_type": "markdown",
   "metadata": {},
   "source": [
    "## Data loading\n",
    "\n",
    "The data collected from the Petrel's spread sheets can be saved in the Clipboard, from there you two options:\n",
    "\n",
    "* Take the data directly from the Clipboard by the code bellow\n",
    "* Take the data from files (csv preferably) created from the Clipboard\n",
    "\n",
    "These data may or may not include the headers, you have the option of create them while loading as is do bellow."
   ]
  },
  {
   "cell_type": "code",
   "execution_count": 2,
   "metadata": {},
   "outputs": [],
   "source": [
    "# Data directly from the Clipboard\n",
    "\n",
    "# df_thick_top = pd.read_clipboard(sep='\\t')"
   ]
  },
  {
   "cell_type": "code",
   "execution_count": 3,
   "metadata": {
    "scrolled": true
   },
   "outputs": [
    {
     "data": {
      "text/html": [
       "<div>\n",
       "<style scoped>\n",
       "    .dataframe tbody tr th:only-of-type {\n",
       "        vertical-align: middle;\n",
       "    }\n",
       "\n",
       "    .dataframe tbody tr th {\n",
       "        vertical-align: top;\n",
       "    }\n",
       "\n",
       "    .dataframe thead th {\n",
       "        text-align: right;\n",
       "    }\n",
       "</style>\n",
       "<table border=\"1\" class=\"dataframe\">\n",
       "  <thead>\n",
       "    <tr style=\"text-align: right;\">\n",
       "      <th></th>\n",
       "      <th>x</th>\n",
       "      <th>y</th>\n",
       "      <th>t_tops</th>\n",
       "    </tr>\n",
       "  </thead>\n",
       "  <tbody>\n",
       "    <tr>\n",
       "      <th>0</th>\n",
       "      <td>457379.271643</td>\n",
       "      <td>6.786013e+06</td>\n",
       "      <td>155.526306</td>\n",
       "    </tr>\n",
       "    <tr>\n",
       "      <th>1</th>\n",
       "      <td>455308.000000</td>\n",
       "      <td>6.784068e+06</td>\n",
       "      <td>195.771317</td>\n",
       "    </tr>\n",
       "    <tr>\n",
       "      <th>2</th>\n",
       "      <td>456514.729518</td>\n",
       "      <td>6.784049e+06</td>\n",
       "      <td>131.527908</td>\n",
       "    </tr>\n",
       "    <tr>\n",
       "      <th>3</th>\n",
       "      <td>457762.825164</td>\n",
       "      <td>6.787130e+06</td>\n",
       "      <td>153.312592</td>\n",
       "    </tr>\n",
       "    <tr>\n",
       "      <th>4</th>\n",
       "      <td>453085.280980</td>\n",
       "      <td>6.786788e+06</td>\n",
       "      <td>161.561844</td>\n",
       "    </tr>\n",
       "    <tr>\n",
       "      <th>5</th>\n",
       "      <td>454716.938301</td>\n",
       "      <td>6.787607e+06</td>\n",
       "      <td>164.967438</td>\n",
       "    </tr>\n",
       "    <tr>\n",
       "      <th>6</th>\n",
       "      <td>456316.580185</td>\n",
       "      <td>6.788725e+06</td>\n",
       "      <td>171.330933</td>\n",
       "    </tr>\n",
       "    <tr>\n",
       "      <th>7</th>\n",
       "      <td>454901.278237</td>\n",
       "      <td>6.786211e+06</td>\n",
       "      <td>183.970886</td>\n",
       "    </tr>\n",
       "    <tr>\n",
       "      <th>8</th>\n",
       "      <td>453523.008381</td>\n",
       "      <td>6.783002e+06</td>\n",
       "      <td>206.482803</td>\n",
       "    </tr>\n",
       "    <tr>\n",
       "      <th>9</th>\n",
       "      <td>451496.662828</td>\n",
       "      <td>6.781788e+06</td>\n",
       "      <td>164.978958</td>\n",
       "    </tr>\n",
       "    <tr>\n",
       "      <th>10</th>\n",
       "      <td>452257.451628</td>\n",
       "      <td>6.784852e+06</td>\n",
       "      <td>197.737625</td>\n",
       "    </tr>\n",
       "    <tr>\n",
       "      <th>11</th>\n",
       "      <td>457379.271643</td>\n",
       "      <td>6.786013e+06</td>\n",
       "      <td>155.526306</td>\n",
       "    </tr>\n",
       "    <tr>\n",
       "      <th>12</th>\n",
       "      <td>457537.109618</td>\n",
       "      <td>6.785280e+06</td>\n",
       "      <td>184.024139</td>\n",
       "    </tr>\n",
       "  </tbody>\n",
       "</table>\n",
       "</div>"
      ],
      "text/plain": [
       "                x             y      t_tops\n",
       "0   457379.271643  6.786013e+06  155.526306\n",
       "1   455308.000000  6.784068e+06  195.771317\n",
       "2   456514.729518  6.784049e+06  131.527908\n",
       "3   457762.825164  6.787130e+06  153.312592\n",
       "4   453085.280980  6.786788e+06  161.561844\n",
       "5   454716.938301  6.787607e+06  164.967438\n",
       "6   456316.580185  6.788725e+06  171.330933\n",
       "7   454901.278237  6.786211e+06  183.970886\n",
       "8   453523.008381  6.783002e+06  206.482803\n",
       "9   451496.662828  6.781788e+06  164.978958\n",
       "10  452257.451628  6.784852e+06  197.737625\n",
       "11  457379.271643  6.786013e+06  155.526306\n",
       "12  457537.109618  6.785280e+06  184.024139"
      ]
     },
     "execution_count": 3,
     "metadata": {},
     "output_type": "execute_result"
    }
   ],
   "source": [
    "# CSV file with thickness from tops. Header ara not included so they are declare while creating the dateframe\n",
    "\n",
    "column_names = ['x', 'y', 't_tops']\n",
    "df_thick_tops = pd.read_csv('thickness_tops.txt', header=None, names=column_names, delimiter=' ')\n",
    "df_thick_tops"
   ]
  },
  {
   "cell_type": "code",
   "execution_count": 4,
   "metadata": {},
   "outputs": [
    {
     "data": {
      "text/html": [
       "<div>\n",
       "<style scoped>\n",
       "    .dataframe tbody tr th:only-of-type {\n",
       "        vertical-align: middle;\n",
       "    }\n",
       "\n",
       "    .dataframe tbody tr th {\n",
       "        vertical-align: top;\n",
       "    }\n",
       "\n",
       "    .dataframe thead th {\n",
       "        text-align: right;\n",
       "    }\n",
       "</style>\n",
       "<table border=\"1\" class=\"dataframe\">\n",
       "  <thead>\n",
       "    <tr style=\"text-align: right;\">\n",
       "      <th></th>\n",
       "      <th>x</th>\n",
       "      <th>y</th>\n",
       "      <th>t_surf</th>\n",
       "    </tr>\n",
       "  </thead>\n",
       "  <tbody>\n",
       "    <tr>\n",
       "      <th>0</th>\n",
       "      <td>457379.271643</td>\n",
       "      <td>6.786013e+06</td>\n",
       "      <td>147.528824</td>\n",
       "    </tr>\n",
       "    <tr>\n",
       "      <th>1</th>\n",
       "      <td>455308.000000</td>\n",
       "      <td>6.784068e+06</td>\n",
       "      <td>201.745178</td>\n",
       "    </tr>\n",
       "    <tr>\n",
       "      <th>2</th>\n",
       "      <td>456514.729518</td>\n",
       "      <td>6.784049e+06</td>\n",
       "      <td>128.291351</td>\n",
       "    </tr>\n",
       "    <tr>\n",
       "      <th>3</th>\n",
       "      <td>457762.825164</td>\n",
       "      <td>6.787130e+06</td>\n",
       "      <td>150.312195</td>\n",
       "    </tr>\n",
       "    <tr>\n",
       "      <th>4</th>\n",
       "      <td>453085.280980</td>\n",
       "      <td>6.786788e+06</td>\n",
       "      <td>196.132965</td>\n",
       "    </tr>\n",
       "    <tr>\n",
       "      <th>5</th>\n",
       "      <td>454716.938301</td>\n",
       "      <td>6.787607e+06</td>\n",
       "      <td>193.104492</td>\n",
       "    </tr>\n",
       "    <tr>\n",
       "      <th>6</th>\n",
       "      <td>456316.580185</td>\n",
       "      <td>6.788725e+06</td>\n",
       "      <td>177.770599</td>\n",
       "    </tr>\n",
       "    <tr>\n",
       "      <th>7</th>\n",
       "      <td>454901.278237</td>\n",
       "      <td>6.786211e+06</td>\n",
       "      <td>204.824753</td>\n",
       "    </tr>\n",
       "    <tr>\n",
       "      <th>8</th>\n",
       "      <td>453523.008381</td>\n",
       "      <td>6.783002e+06</td>\n",
       "      <td>222.614792</td>\n",
       "    </tr>\n",
       "    <tr>\n",
       "      <th>9</th>\n",
       "      <td>451496.662828</td>\n",
       "      <td>6.781788e+06</td>\n",
       "      <td>185.659836</td>\n",
       "    </tr>\n",
       "    <tr>\n",
       "      <th>10</th>\n",
       "      <td>452257.451628</td>\n",
       "      <td>6.784852e+06</td>\n",
       "      <td>217.254135</td>\n",
       "    </tr>\n",
       "    <tr>\n",
       "      <th>11</th>\n",
       "      <td>457379.271643</td>\n",
       "      <td>6.786013e+06</td>\n",
       "      <td>147.528824</td>\n",
       "    </tr>\n",
       "    <tr>\n",
       "      <th>12</th>\n",
       "      <td>457537.109618</td>\n",
       "      <td>6.785280e+06</td>\n",
       "      <td>98.401115</td>\n",
       "    </tr>\n",
       "  </tbody>\n",
       "</table>\n",
       "</div>"
      ],
      "text/plain": [
       "                x             y      t_surf\n",
       "0   457379.271643  6.786013e+06  147.528824\n",
       "1   455308.000000  6.784068e+06  201.745178\n",
       "2   456514.729518  6.784049e+06  128.291351\n",
       "3   457762.825164  6.787130e+06  150.312195\n",
       "4   453085.280980  6.786788e+06  196.132965\n",
       "5   454716.938301  6.787607e+06  193.104492\n",
       "6   456316.580185  6.788725e+06  177.770599\n",
       "7   454901.278237  6.786211e+06  204.824753\n",
       "8   453523.008381  6.783002e+06  222.614792\n",
       "9   451496.662828  6.781788e+06  185.659836\n",
       "10  452257.451628  6.784852e+06  217.254135\n",
       "11  457379.271643  6.786013e+06  147.528824\n",
       "12  457537.109618  6.785280e+06   98.401115"
      ]
     },
     "execution_count": 4,
     "metadata": {},
     "output_type": "execute_result"
    }
   ],
   "source": [
    "# CSV file with thickness from a seismic surface. Header ara not included so they are declare while creating the dateframe\n",
    "\n",
    "column_names = ['x', 'y', 't_surf']\n",
    "df_thick_surf = pd.read_csv('thickness_surface.txt', header=None, names=column_names, delimiter=' ')\n",
    "df_thick_surf"
   ]
  },
  {
   "cell_type": "code",
   "execution_count": 5,
   "metadata": {},
   "outputs": [
    {
     "data": {
      "text/plain": [
       "0     True\n",
       "1     True\n",
       "2     True\n",
       "3     True\n",
       "4     True\n",
       "5     True\n",
       "6     True\n",
       "7     True\n",
       "8     True\n",
       "9     True\n",
       "10    True\n",
       "11    True\n",
       "12    True\n",
       "Name: x, dtype: bool"
      ]
     },
     "execution_count": 5,
     "metadata": {},
     "output_type": "execute_result"
    }
   ],
   "source": [
    "# Verifing xs are equal\n",
    "\n",
    "df_thick_tops.x == df_thick_surf.x"
   ]
  },
  {
   "cell_type": "code",
   "execution_count": 6,
   "metadata": {},
   "outputs": [
    {
     "data": {
      "text/plain": [
       "0     True\n",
       "1     True\n",
       "2     True\n",
       "3     True\n",
       "4     True\n",
       "5     True\n",
       "6     True\n",
       "7     True\n",
       "8     True\n",
       "9     True\n",
       "10    True\n",
       "11    True\n",
       "12    True\n",
       "Name: y, dtype: bool"
      ]
     },
     "execution_count": 6,
     "metadata": {},
     "output_type": "execute_result"
    }
   ],
   "source": [
    "# Verifing ys are equal\n",
    "\n",
    "df_thick_tops.y == df_thick_surf.y"
   ]
  },
  {
   "cell_type": "markdown",
   "metadata": {},
   "source": [
    "## Join dataframes\n",
    "\n",
    "As the x and y are the same in both dataframes we can join them together, do the difference between the thickness, and then show the characteristics of the join dataframe."
   ]
  },
  {
   "cell_type": "code",
   "execution_count": 7,
   "metadata": {},
   "outputs": [
    {
     "data": {
      "text/html": [
       "<div>\n",
       "<style scoped>\n",
       "    .dataframe tbody tr th:only-of-type {\n",
       "        vertical-align: middle;\n",
       "    }\n",
       "\n",
       "    .dataframe tbody tr th {\n",
       "        vertical-align: top;\n",
       "    }\n",
       "\n",
       "    .dataframe thead th {\n",
       "        text-align: right;\n",
       "    }\n",
       "</style>\n",
       "<table border=\"1\" class=\"dataframe\">\n",
       "  <thead>\n",
       "    <tr style=\"text-align: right;\">\n",
       "      <th></th>\n",
       "      <th>x</th>\n",
       "      <th>y</th>\n",
       "      <th>t_tops</th>\n",
       "      <th>t_surf</th>\n",
       "    </tr>\n",
       "  </thead>\n",
       "  <tbody>\n",
       "    <tr>\n",
       "      <th>0</th>\n",
       "      <td>457379.271643</td>\n",
       "      <td>6.786013e+06</td>\n",
       "      <td>155.526306</td>\n",
       "      <td>147.528824</td>\n",
       "    </tr>\n",
       "    <tr>\n",
       "      <th>1</th>\n",
       "      <td>455308.000000</td>\n",
       "      <td>6.784068e+06</td>\n",
       "      <td>195.771317</td>\n",
       "      <td>201.745178</td>\n",
       "    </tr>\n",
       "    <tr>\n",
       "      <th>2</th>\n",
       "      <td>456514.729518</td>\n",
       "      <td>6.784049e+06</td>\n",
       "      <td>131.527908</td>\n",
       "      <td>128.291351</td>\n",
       "    </tr>\n",
       "    <tr>\n",
       "      <th>3</th>\n",
       "      <td>457762.825164</td>\n",
       "      <td>6.787130e+06</td>\n",
       "      <td>153.312592</td>\n",
       "      <td>150.312195</td>\n",
       "    </tr>\n",
       "    <tr>\n",
       "      <th>4</th>\n",
       "      <td>453085.280980</td>\n",
       "      <td>6.786788e+06</td>\n",
       "      <td>161.561844</td>\n",
       "      <td>196.132965</td>\n",
       "    </tr>\n",
       "    <tr>\n",
       "      <th>5</th>\n",
       "      <td>454716.938301</td>\n",
       "      <td>6.787607e+06</td>\n",
       "      <td>164.967438</td>\n",
       "      <td>193.104492</td>\n",
       "    </tr>\n",
       "    <tr>\n",
       "      <th>6</th>\n",
       "      <td>456316.580185</td>\n",
       "      <td>6.788725e+06</td>\n",
       "      <td>171.330933</td>\n",
       "      <td>177.770599</td>\n",
       "    </tr>\n",
       "    <tr>\n",
       "      <th>7</th>\n",
       "      <td>454901.278237</td>\n",
       "      <td>6.786211e+06</td>\n",
       "      <td>183.970886</td>\n",
       "      <td>204.824753</td>\n",
       "    </tr>\n",
       "    <tr>\n",
       "      <th>8</th>\n",
       "      <td>453523.008381</td>\n",
       "      <td>6.783002e+06</td>\n",
       "      <td>206.482803</td>\n",
       "      <td>222.614792</td>\n",
       "    </tr>\n",
       "    <tr>\n",
       "      <th>9</th>\n",
       "      <td>451496.662828</td>\n",
       "      <td>6.781788e+06</td>\n",
       "      <td>164.978958</td>\n",
       "      <td>185.659836</td>\n",
       "    </tr>\n",
       "    <tr>\n",
       "      <th>10</th>\n",
       "      <td>452257.451628</td>\n",
       "      <td>6.784852e+06</td>\n",
       "      <td>197.737625</td>\n",
       "      <td>217.254135</td>\n",
       "    </tr>\n",
       "    <tr>\n",
       "      <th>11</th>\n",
       "      <td>457379.271643</td>\n",
       "      <td>6.786013e+06</td>\n",
       "      <td>155.526306</td>\n",
       "      <td>147.528824</td>\n",
       "    </tr>\n",
       "    <tr>\n",
       "      <th>12</th>\n",
       "      <td>457537.109618</td>\n",
       "      <td>6.785280e+06</td>\n",
       "      <td>184.024139</td>\n",
       "      <td>98.401115</td>\n",
       "    </tr>\n",
       "  </tbody>\n",
       "</table>\n",
       "</div>"
      ],
      "text/plain": [
       "                x             y      t_tops      t_surf\n",
       "0   457379.271643  6.786013e+06  155.526306  147.528824\n",
       "1   455308.000000  6.784068e+06  195.771317  201.745178\n",
       "2   456514.729518  6.784049e+06  131.527908  128.291351\n",
       "3   457762.825164  6.787130e+06  153.312592  150.312195\n",
       "4   453085.280980  6.786788e+06  161.561844  196.132965\n",
       "5   454716.938301  6.787607e+06  164.967438  193.104492\n",
       "6   456316.580185  6.788725e+06  171.330933  177.770599\n",
       "7   454901.278237  6.786211e+06  183.970886  204.824753\n",
       "8   453523.008381  6.783002e+06  206.482803  222.614792\n",
       "9   451496.662828  6.781788e+06  164.978958  185.659836\n",
       "10  452257.451628  6.784852e+06  197.737625  217.254135\n",
       "11  457379.271643  6.786013e+06  155.526306  147.528824\n",
       "12  457537.109618  6.785280e+06  184.024139   98.401115"
      ]
     },
     "execution_count": 7,
     "metadata": {},
     "output_type": "execute_result"
    }
   ],
   "source": [
    "# Join dataframe\n",
    "\n",
    "df_join = df_thick_tops\n",
    "df_join['t_surf'] = df_thick_surf.t_surf\n",
    "df_join"
   ]
  },
  {
   "cell_type": "code",
   "execution_count": 8,
   "metadata": {},
   "outputs": [
    {
     "data": {
      "text/html": [
       "<div>\n",
       "<style scoped>\n",
       "    .dataframe tbody tr th:only-of-type {\n",
       "        vertical-align: middle;\n",
       "    }\n",
       "\n",
       "    .dataframe tbody tr th {\n",
       "        vertical-align: top;\n",
       "    }\n",
       "\n",
       "    .dataframe thead th {\n",
       "        text-align: right;\n",
       "    }\n",
       "</style>\n",
       "<table border=\"1\" class=\"dataframe\">\n",
       "  <thead>\n",
       "    <tr style=\"text-align: right;\">\n",
       "      <th></th>\n",
       "      <th>x</th>\n",
       "      <th>y</th>\n",
       "      <th>t_tops</th>\n",
       "      <th>t_surf</th>\n",
       "      <th>delta</th>\n",
       "    </tr>\n",
       "  </thead>\n",
       "  <tbody>\n",
       "    <tr>\n",
       "      <th>0</th>\n",
       "      <td>457379.271643</td>\n",
       "      <td>6.786013e+06</td>\n",
       "      <td>155.526306</td>\n",
       "      <td>147.528824</td>\n",
       "      <td>7.997482</td>\n",
       "    </tr>\n",
       "    <tr>\n",
       "      <th>1</th>\n",
       "      <td>455308.000000</td>\n",
       "      <td>6.784068e+06</td>\n",
       "      <td>195.771317</td>\n",
       "      <td>201.745178</td>\n",
       "      <td>-5.973861</td>\n",
       "    </tr>\n",
       "    <tr>\n",
       "      <th>2</th>\n",
       "      <td>456514.729518</td>\n",
       "      <td>6.784049e+06</td>\n",
       "      <td>131.527908</td>\n",
       "      <td>128.291351</td>\n",
       "      <td>3.236557</td>\n",
       "    </tr>\n",
       "    <tr>\n",
       "      <th>3</th>\n",
       "      <td>457762.825164</td>\n",
       "      <td>6.787130e+06</td>\n",
       "      <td>153.312592</td>\n",
       "      <td>150.312195</td>\n",
       "      <td>3.000397</td>\n",
       "    </tr>\n",
       "    <tr>\n",
       "      <th>4</th>\n",
       "      <td>453085.280980</td>\n",
       "      <td>6.786788e+06</td>\n",
       "      <td>161.561844</td>\n",
       "      <td>196.132965</td>\n",
       "      <td>-34.571121</td>\n",
       "    </tr>\n",
       "    <tr>\n",
       "      <th>5</th>\n",
       "      <td>454716.938301</td>\n",
       "      <td>6.787607e+06</td>\n",
       "      <td>164.967438</td>\n",
       "      <td>193.104492</td>\n",
       "      <td>-28.137054</td>\n",
       "    </tr>\n",
       "    <tr>\n",
       "      <th>6</th>\n",
       "      <td>456316.580185</td>\n",
       "      <td>6.788725e+06</td>\n",
       "      <td>171.330933</td>\n",
       "      <td>177.770599</td>\n",
       "      <td>-6.439666</td>\n",
       "    </tr>\n",
       "    <tr>\n",
       "      <th>7</th>\n",
       "      <td>454901.278237</td>\n",
       "      <td>6.786211e+06</td>\n",
       "      <td>183.970886</td>\n",
       "      <td>204.824753</td>\n",
       "      <td>-20.853867</td>\n",
       "    </tr>\n",
       "    <tr>\n",
       "      <th>8</th>\n",
       "      <td>453523.008381</td>\n",
       "      <td>6.783002e+06</td>\n",
       "      <td>206.482803</td>\n",
       "      <td>222.614792</td>\n",
       "      <td>-16.131989</td>\n",
       "    </tr>\n",
       "    <tr>\n",
       "      <th>9</th>\n",
       "      <td>451496.662828</td>\n",
       "      <td>6.781788e+06</td>\n",
       "      <td>164.978958</td>\n",
       "      <td>185.659836</td>\n",
       "      <td>-20.680878</td>\n",
       "    </tr>\n",
       "    <tr>\n",
       "      <th>10</th>\n",
       "      <td>452257.451628</td>\n",
       "      <td>6.784852e+06</td>\n",
       "      <td>197.737625</td>\n",
       "      <td>217.254135</td>\n",
       "      <td>-19.516510</td>\n",
       "    </tr>\n",
       "    <tr>\n",
       "      <th>11</th>\n",
       "      <td>457379.271643</td>\n",
       "      <td>6.786013e+06</td>\n",
       "      <td>155.526306</td>\n",
       "      <td>147.528824</td>\n",
       "      <td>7.997482</td>\n",
       "    </tr>\n",
       "    <tr>\n",
       "      <th>12</th>\n",
       "      <td>457537.109618</td>\n",
       "      <td>6.785280e+06</td>\n",
       "      <td>184.024139</td>\n",
       "      <td>98.401115</td>\n",
       "      <td>85.623024</td>\n",
       "    </tr>\n",
       "  </tbody>\n",
       "</table>\n",
       "</div>"
      ],
      "text/plain": [
       "                x             y      t_tops      t_surf      delta\n",
       "0   457379.271643  6.786013e+06  155.526306  147.528824   7.997482\n",
       "1   455308.000000  6.784068e+06  195.771317  201.745178  -5.973861\n",
       "2   456514.729518  6.784049e+06  131.527908  128.291351   3.236557\n",
       "3   457762.825164  6.787130e+06  153.312592  150.312195   3.000397\n",
       "4   453085.280980  6.786788e+06  161.561844  196.132965 -34.571121\n",
       "5   454716.938301  6.787607e+06  164.967438  193.104492 -28.137054\n",
       "6   456316.580185  6.788725e+06  171.330933  177.770599  -6.439666\n",
       "7   454901.278237  6.786211e+06  183.970886  204.824753 -20.853867\n",
       "8   453523.008381  6.783002e+06  206.482803  222.614792 -16.131989\n",
       "9   451496.662828  6.781788e+06  164.978958  185.659836 -20.680878\n",
       "10  452257.451628  6.784852e+06  197.737625  217.254135 -19.516510\n",
       "11  457379.271643  6.786013e+06  155.526306  147.528824   7.997482\n",
       "12  457537.109618  6.785280e+06  184.024139   98.401115  85.623024"
      ]
     },
     "execution_count": 8,
     "metadata": {},
     "output_type": "execute_result"
    }
   ],
   "source": [
    "# New column with the differece of thickness\n",
    "\n",
    "df_join = df_thick_tops\n",
    "df_join['delta'] = df_join.t_tops - df_join.t_surf\n",
    "df_join"
   ]
  },
  {
   "cell_type": "code",
   "execution_count": 9,
   "metadata": {},
   "outputs": [
    {
     "data": {
      "text/html": [
       "<div>\n",
       "<style scoped>\n",
       "    .dataframe tbody tr th:only-of-type {\n",
       "        vertical-align: middle;\n",
       "    }\n",
       "\n",
       "    .dataframe tbody tr th {\n",
       "        vertical-align: top;\n",
       "    }\n",
       "\n",
       "    .dataframe thead th {\n",
       "        text-align: right;\n",
       "    }\n",
       "</style>\n",
       "<table border=\"1\" class=\"dataframe\">\n",
       "  <thead>\n",
       "    <tr style=\"text-align: right;\">\n",
       "      <th></th>\n",
       "      <th>x</th>\n",
       "      <th>y</th>\n",
       "      <th>t_tops</th>\n",
       "      <th>t_surf</th>\n",
       "      <th>delta</th>\n",
       "    </tr>\n",
       "  </thead>\n",
       "  <tbody>\n",
       "    <tr>\n",
       "      <th>count</th>\n",
       "      <td>13.000000</td>\n",
       "      <td>1.300000e+01</td>\n",
       "      <td>13.000000</td>\n",
       "      <td>13.000000</td>\n",
       "      <td>13.000000</td>\n",
       "    </tr>\n",
       "    <tr>\n",
       "      <th>mean</th>\n",
       "      <td>455244.492933</td>\n",
       "      <td>6.785502e+06</td>\n",
       "      <td>171.286081</td>\n",
       "      <td>174.705312</td>\n",
       "      <td>-3.419231</td>\n",
       "    </tr>\n",
       "    <tr>\n",
       "      <th>std</th>\n",
       "      <td>2130.532323</td>\n",
       "      <td>1.932820e+03</td>\n",
       "      <td>21.283699</td>\n",
       "      <td>37.327225</td>\n",
       "      <td>30.130888</td>\n",
       "    </tr>\n",
       "    <tr>\n",
       "      <th>min</th>\n",
       "      <td>451496.662828</td>\n",
       "      <td>6.781788e+06</td>\n",
       "      <td>131.527908</td>\n",
       "      <td>98.401115</td>\n",
       "      <td>-34.571121</td>\n",
       "    </tr>\n",
       "    <tr>\n",
       "      <th>25%</th>\n",
       "      <td>453523.008381</td>\n",
       "      <td>6.784068e+06</td>\n",
       "      <td>155.526306</td>\n",
       "      <td>147.528824</td>\n",
       "      <td>-20.680878</td>\n",
       "    </tr>\n",
       "    <tr>\n",
       "      <th>50%</th>\n",
       "      <td>455308.000000</td>\n",
       "      <td>6.786013e+06</td>\n",
       "      <td>164.978958</td>\n",
       "      <td>185.659836</td>\n",
       "      <td>-6.439666</td>\n",
       "    </tr>\n",
       "    <tr>\n",
       "      <th>75%</th>\n",
       "      <td>457379.271643</td>\n",
       "      <td>6.786788e+06</td>\n",
       "      <td>184.024139</td>\n",
       "      <td>201.745178</td>\n",
       "      <td>3.236557</td>\n",
       "    </tr>\n",
       "    <tr>\n",
       "      <th>max</th>\n",
       "      <td>457762.825164</td>\n",
       "      <td>6.788725e+06</td>\n",
       "      <td>206.482803</td>\n",
       "      <td>222.614792</td>\n",
       "      <td>85.623024</td>\n",
       "    </tr>\n",
       "  </tbody>\n",
       "</table>\n",
       "</div>"
      ],
      "text/plain": [
       "                   x             y      t_tops      t_surf      delta\n",
       "count      13.000000  1.300000e+01   13.000000   13.000000  13.000000\n",
       "mean   455244.492933  6.785502e+06  171.286081  174.705312  -3.419231\n",
       "std      2130.532323  1.932820e+03   21.283699   37.327225  30.130888\n",
       "min    451496.662828  6.781788e+06  131.527908   98.401115 -34.571121\n",
       "25%    453523.008381  6.784068e+06  155.526306  147.528824 -20.680878\n",
       "50%    455308.000000  6.786013e+06  164.978958  185.659836  -6.439666\n",
       "75%    457379.271643  6.786788e+06  184.024139  201.745178   3.236557\n",
       "max    457762.825164  6.788725e+06  206.482803  222.614792  85.623024"
      ]
     },
     "execution_count": 9,
     "metadata": {},
     "output_type": "execute_result"
    }
   ],
   "source": [
    "df_join.describe()"
   ]
  },
  {
   "cell_type": "markdown",
   "metadata": {},
   "source": [
    "## Exploratory plots\n",
    "\n",
    "Let's do some plots to understand the differences between the two estimations of thickness."
   ]
  },
  {
   "cell_type": "code",
   "execution_count": 10,
   "metadata": {},
   "outputs": [
    {
     "data": {
      "image/png": "[encoded data removed]",
      "text/plain": [
       "<Figure size 792x504 with 2 Axes>"
      ]
     },
     "metadata": {
      "needs_background": "light"
     },
     "output_type": "display_data"
    }
   ],
   "source": [
    "# Histograms\n",
    "\n",
    "plt.figure(1, figsize=(11, 7))\n",
    "\n",
    "plt.subplot(1, 2, 1)\n",
    "plt.hist(df_join.t_tops)\n",
    "plt.xlabel('Thickness from tops (feet)')\n",
    "plt.ylabel('Frequency')\n",
    "\n",
    "plt.subplot(1, 2, 2)\n",
    "plt.hist(df_join.t_surf)\n",
    "plt.xlabel('Thickness from surfase (feet)');"
   ]
  },
  {
   "cell_type": "code",
   "execution_count": 11,
   "metadata": {},
   "outputs": [
    {
     "data": {
      "image/png": "[encoded data removed]",
      "text/plain": [
       "<Figure size 792x504 with 2 Axes>"
      ]
     },
     "metadata": {
      "needs_background": "light"
     },
     "output_type": "display_data"
    }
   ],
   "source": [
    "# Map with the location of the anomaly\n",
    "\n",
    "plt.figure(2, figsize=(11, 7))\n",
    "plt.scatter(df_join.x, df_join.y, c=df_join.delta, cmap='viridis_r')\n",
    "plt.xlabel('X (meter)')\n",
    "plt.ylabel('Y (meter)')\n",
    "plt.grid(True)\n",
    "plt.text(456800, 6785200, 'Anomaly');\n",
    "cb = plt.colorbar()\n",
    "cb.set_label('Delta thickness (feet)')"
   ]
  },
  {
   "cell_type": "code",
   "execution_count": 12,
   "metadata": {},
   "outputs": [
    {
     "data": {
      "image/png": "[encoded data removed]",
      "text/plain": [
       "<Figure size 792x504 with 2 Axes>"
      ]
     },
     "metadata": {
      "needs_background": "light"
     },
     "output_type": "display_data"
    }
   ],
   "source": [
    "# Crossplot\n",
    "\n",
    "plt.figure(3, figsize=(11, 7))\n",
    "plt.scatter(df_join.t_tops, df_join.t_surf, c=df_join.delta, cmap='viridis_r')\n",
    "plt.xlabel('Thickness from tops (feet)')\n",
    "plt.ylabel('Thickness from surface (feet)')\n",
    "plt.text(175, 98, 'Anomaly');\n",
    "plt.grid(True)\n",
    "cb = plt.colorbar()\n",
    "cb.set_label('Delta Thickness (feet)');"
   ]
  },
  {
   "cell_type": "markdown",
   "metadata": {},
   "source": [
    "# Regression\n",
    "\n",
    "Functions `np.polyfit` and `np.poly1d` are powerful tools to do polynomial regressions of different degrees. Some time, as in the case of the permeability (k), a variable linearization (log(k)) is required but not in this case. Other important variable linearization are shown bellow:\n",
    "\n",
    "\n",
    "Relationship |  Example   |     General Eqn.     |  Altered Var.  |        Linearized Eqn.  \n",
    "-------------|------------|----------------------|----------------|------------------------------------------\n",
    "Linear       | x          | y =     B * x    + C | -              |        y =   C    + B * x\n",
    "Logarithmic  | log(x)     | y = A * log(B*x) + C | log(x)         |        y =   C    + A * (log(B) + log(x))\n",
    "Exponential  | 2^x, e^x | y = A * exp(B*x) + C | log(y)         | log(y-C) = log(A) + B * x\n",
    "Power        | x^2       | y =     B * x^N + C | log(x), log(y) | log(y-C) = log(B) + N * log(x)\n",
    "\n",
    "Table from: https://www.mmbyte.com/article/45748.html"
   ]
  },
  {
   "cell_type": "markdown",
   "metadata": {},
   "source": [
    "## Definition of the regression function\n",
    "\n",
    "For later uses"
   ]
  },
  {
   "cell_type": "code",
   "execution_count": 13,
   "metadata": {},
   "outputs": [],
   "source": [
    "def reg(x, y, degree):\n",
    "    \n",
    "    poly_coeff = np.polyfit(x, y, degree)\n",
    "#   poly_coeff = np.polyfit(x, np.log(y), degree)\n",
    "    \n",
    "    newy = np.poly1d(poly_coeff)\n",
    "    \n",
    "    e = y - newy(x)\n",
    "#   e = y - np.exp(newy(x))\n",
    "    \n",
    "    mse = mean_squared_error(y, newy(x))\n",
    "#   mse = mean_squared_error(y, np.exp(newy(x)))\n",
    "    \n",
    "    r2 = r2_score(y, newy(x))\n",
    "    \n",
    "    return newy, e, mse, r2"
   ]
  },
  {
   "cell_type": "markdown",
   "metadata": {},
   "source": [
    "## First degree regression and residual"
   ]
  },
  {
   "cell_type": "code",
   "execution_count": 14,
   "metadata": {},
   "outputs": [
    {
     "name": "stdout",
     "output_type": "stream",
     "text": [
      "Data CC: 0.5906184698181037\n",
      "\n",
      "Reggresion equation (y):  \n",
      "1.036 x - 2.717\n",
      "\n",
      "Regresion errors\n",
      "MSE: 837.4976011055413\n",
      "R2: 0.3488301768902783\n"
     ]
    }
   ],
   "source": [
    "print('Data CC:', df_join.t_tops.corr(df_join.t_surf))\n",
    "print()\n",
    "\n",
    "newy1, e, mse, r2= reg(df_join.t_tops, df_join.t_surf, 1)\n",
    "print('Reggresion equation (y):', newy1)\n",
    "print()\n",
    "\n",
    "print('Regresion errors')\n",
    "print('MSE:' , mse)\n",
    "print('R2:' , r2)"
   ]
  },
  {
   "cell_type": "markdown",
   "metadata": {},
   "source": [
    "## Regression and residual plots"
   ]
  },
  {
   "cell_type": "code",
   "execution_count": 15,
   "metadata": {},
   "outputs": [
    {
     "data": {
      "image/png": "[encoded data removed]",
      "text/plain": [
       "<Figure size 792x792 with 2 Axes>"
      ]
     },
     "metadata": {
      "needs_background": "light"
     },
     "output_type": "display_data"
    }
   ],
   "source": [
    "x = np.arange(0, 240, 1)\n",
    "\n",
    "plt.figure(3, figsize=(11, 11))\n",
    "\n",
    "plt.subplot(2, 1, 1)\n",
    "plt.scatter(df_join.t_tops, df_join.t_surf)\n",
    "plt.plot(x, newy1(x), color='black', label='Regression')\n",
    "plt.text(170, 160, 'y = '+str(newy1)[2:])\n",
    "plt.ylabel('Thickness from surface (feet)')\n",
    "plt.axis([100, 240, 80, 240])\n",
    "plt.grid(True)\n",
    "plt.legend()\n",
    "\n",
    "plt.subplot(2, 1, 2)\n",
    "plt.scatter(df_join.t_tops, e)\n",
    "plt.axhline(y=np.mean(e), color='black', label=\"Mean of residual\")\n",
    "plt.xlim(100, 240)\n",
    "plt.xlabel('Thickness from tops (feet)')\n",
    "plt.ylabel('Residual')\n",
    "plt.grid(True)\n",
    "plt.legend();"
   ]
  },
  {
   "cell_type": "markdown",
   "metadata": {},
   "source": [
    "**Residuals** provide an excellent way to assess the quality of the regression:\n",
    "\n",
    " + The sum and mean of the residuals have to be close to zero\n",
    " + Residuals have to be randomly distributed around zero\n",
    " + Residuals do not have to show patterns\n",
    " + Patterns such as those bellow have different implications:\n",
    " \n",
    " <img src=\"https://condor.depaul.edu/sjost/it223/documents/resid-plots.gif\" style=\"float:center\" width=\"500px\" />\n",
    "\n",
    "Image from: https://condor.depaul.edu/sjost/it223/documents/regress.htm\n",
    "\n",
    "Another reference: https://www.qualtrics.com/support/stats-iq/analyses/regression-guides/interpreting-residual-plots-improve-regression/#x-unbalanced-header\n",
    "\n",
    "What efacie do you think has the best phi-k regression?"
   ]
  },
  {
   "cell_type": "markdown",
   "metadata": {},
   "source": [
    "## Dropping the anomalous point\n",
    "\n",
    "The anomalous point is located at the end of the join dataframe, after that all the metrics and the shape of the residual improve."
   ]
  },
  {
   "cell_type": "code",
   "execution_count": 16,
   "metadata": {},
   "outputs": [
    {
     "data": {
      "text/html": [
       "<div>\n",
       "<style scoped>\n",
       "    .dataframe tbody tr th:only-of-type {\n",
       "        vertical-align: middle;\n",
       "    }\n",
       "\n",
       "    .dataframe tbody tr th {\n",
       "        vertical-align: top;\n",
       "    }\n",
       "\n",
       "    .dataframe thead th {\n",
       "        text-align: right;\n",
       "    }\n",
       "</style>\n",
       "<table border=\"1\" class=\"dataframe\">\n",
       "  <thead>\n",
       "    <tr style=\"text-align: right;\">\n",
       "      <th></th>\n",
       "      <th>x</th>\n",
       "      <th>y</th>\n",
       "      <th>t_tops</th>\n",
       "      <th>t_surf</th>\n",
       "      <th>delta</th>\n",
       "    </tr>\n",
       "  </thead>\n",
       "  <tbody>\n",
       "    <tr>\n",
       "      <th>0</th>\n",
       "      <td>457379.271643</td>\n",
       "      <td>6.786013e+06</td>\n",
       "      <td>155.526306</td>\n",
       "      <td>147.528824</td>\n",
       "      <td>7.997482</td>\n",
       "    </tr>\n",
       "    <tr>\n",
       "      <th>1</th>\n",
       "      <td>455308.000000</td>\n",
       "      <td>6.784068e+06</td>\n",
       "      <td>195.771317</td>\n",
       "      <td>201.745178</td>\n",
       "      <td>-5.973861</td>\n",
       "    </tr>\n",
       "    <tr>\n",
       "      <th>2</th>\n",
       "      <td>456514.729518</td>\n",
       "      <td>6.784049e+06</td>\n",
       "      <td>131.527908</td>\n",
       "      <td>128.291351</td>\n",
       "      <td>3.236557</td>\n",
       "    </tr>\n",
       "    <tr>\n",
       "      <th>3</th>\n",
       "      <td>457762.825164</td>\n",
       "      <td>6.787130e+06</td>\n",
       "      <td>153.312592</td>\n",
       "      <td>150.312195</td>\n",
       "      <td>3.000397</td>\n",
       "    </tr>\n",
       "    <tr>\n",
       "      <th>4</th>\n",
       "      <td>453085.280980</td>\n",
       "      <td>6.786788e+06</td>\n",
       "      <td>161.561844</td>\n",
       "      <td>196.132965</td>\n",
       "      <td>-34.571121</td>\n",
       "    </tr>\n",
       "    <tr>\n",
       "      <th>5</th>\n",
       "      <td>454716.938301</td>\n",
       "      <td>6.787607e+06</td>\n",
       "      <td>164.967438</td>\n",
       "      <td>193.104492</td>\n",
       "      <td>-28.137054</td>\n",
       "    </tr>\n",
       "    <tr>\n",
       "      <th>6</th>\n",
       "      <td>456316.580185</td>\n",
       "      <td>6.788725e+06</td>\n",
       "      <td>171.330933</td>\n",
       "      <td>177.770599</td>\n",
       "      <td>-6.439666</td>\n",
       "    </tr>\n",
       "    <tr>\n",
       "      <th>7</th>\n",
       "      <td>454901.278237</td>\n",
       "      <td>6.786211e+06</td>\n",
       "      <td>183.970886</td>\n",
       "      <td>204.824753</td>\n",
       "      <td>-20.853867</td>\n",
       "    </tr>\n",
       "    <tr>\n",
       "      <th>8</th>\n",
       "      <td>453523.008381</td>\n",
       "      <td>6.783002e+06</td>\n",
       "      <td>206.482803</td>\n",
       "      <td>222.614792</td>\n",
       "      <td>-16.131989</td>\n",
       "    </tr>\n",
       "    <tr>\n",
       "      <th>9</th>\n",
       "      <td>451496.662828</td>\n",
       "      <td>6.781788e+06</td>\n",
       "      <td>164.978958</td>\n",
       "      <td>185.659836</td>\n",
       "      <td>-20.680878</td>\n",
       "    </tr>\n",
       "    <tr>\n",
       "      <th>10</th>\n",
       "      <td>452257.451628</td>\n",
       "      <td>6.784852e+06</td>\n",
       "      <td>197.737625</td>\n",
       "      <td>217.254135</td>\n",
       "      <td>-19.516510</td>\n",
       "    </tr>\n",
       "    <tr>\n",
       "      <th>11</th>\n",
       "      <td>457379.271643</td>\n",
       "      <td>6.786013e+06</td>\n",
       "      <td>155.526306</td>\n",
       "      <td>147.528824</td>\n",
       "      <td>7.997482</td>\n",
       "    </tr>\n",
       "  </tbody>\n",
       "</table>\n",
       "</div>"
      ],
      "text/plain": [
       "                x             y      t_tops      t_surf      delta\n",
       "0   457379.271643  6.786013e+06  155.526306  147.528824   7.997482\n",
       "1   455308.000000  6.784068e+06  195.771317  201.745178  -5.973861\n",
       "2   456514.729518  6.784049e+06  131.527908  128.291351   3.236557\n",
       "3   457762.825164  6.787130e+06  153.312592  150.312195   3.000397\n",
       "4   453085.280980  6.786788e+06  161.561844  196.132965 -34.571121\n",
       "5   454716.938301  6.787607e+06  164.967438  193.104492 -28.137054\n",
       "6   456316.580185  6.788725e+06  171.330933  177.770599  -6.439666\n",
       "7   454901.278237  6.786211e+06  183.970886  204.824753 -20.853867\n",
       "8   453523.008381  6.783002e+06  206.482803  222.614792 -16.131989\n",
       "9   451496.662828  6.781788e+06  164.978958  185.659836 -20.680878\n",
       "10  452257.451628  6.784852e+06  197.737625  217.254135 -19.516510\n",
       "11  457379.271643  6.786013e+06  155.526306  147.528824   7.997482"
      ]
     },
     "execution_count": 16,
     "metadata": {},
     "output_type": "execute_result"
    }
   ],
   "source": [
    "df_join = df_join.drop(12)\n",
    "df_join"
   ]
  },
  {
   "cell_type": "code",
   "execution_count": 17,
   "metadata": {},
   "outputs": [
    {
     "data": {
      "text/html": [
       "<div>\n",
       "<style scoped>\n",
       "    .dataframe tbody tr th:only-of-type {\n",
       "        vertical-align: middle;\n",
       "    }\n",
       "\n",
       "    .dataframe tbody tr th {\n",
       "        vertical-align: top;\n",
       "    }\n",
       "\n",
       "    .dataframe thead th {\n",
       "        text-align: right;\n",
       "    }\n",
       "</style>\n",
       "<table border=\"1\" class=\"dataframe\">\n",
       "  <thead>\n",
       "    <tr style=\"text-align: right;\">\n",
       "      <th></th>\n",
       "      <th>x</th>\n",
       "      <th>y</th>\n",
       "      <th>t_tops</th>\n",
       "      <th>t_surf</th>\n",
       "      <th>delta</th>\n",
       "    </tr>\n",
       "  </thead>\n",
       "  <tbody>\n",
       "    <tr>\n",
       "      <th>count</th>\n",
       "      <td>12.000000</td>\n",
       "      <td>1.200000e+01</td>\n",
       "      <td>12.000000</td>\n",
       "      <td>12.000000</td>\n",
       "      <td>12.000000</td>\n",
       "    </tr>\n",
       "    <tr>\n",
       "      <th>mean</th>\n",
       "      <td>455053.441542</td>\n",
       "      <td>6.785521e+06</td>\n",
       "      <td>170.224576</td>\n",
       "      <td>181.063995</td>\n",
       "      <td>-10.839419</td>\n",
       "    </tr>\n",
       "    <tr>\n",
       "      <th>std</th>\n",
       "      <td>2105.747911</td>\n",
       "      <td>2.017564e+03</td>\n",
       "      <td>21.867723</td>\n",
       "      <td>30.766475</td>\n",
       "      <td>14.476348</td>\n",
       "    </tr>\n",
       "    <tr>\n",
       "      <th>min</th>\n",
       "      <td>451496.662828</td>\n",
       "      <td>6.781788e+06</td>\n",
       "      <td>131.527908</td>\n",
       "      <td>128.291351</td>\n",
       "      <td>-34.571121</td>\n",
       "    </tr>\n",
       "    <tr>\n",
       "      <th>25%</th>\n",
       "      <td>453413.576531</td>\n",
       "      <td>6.784063e+06</td>\n",
       "      <td>155.526306</td>\n",
       "      <td>149.616352</td>\n",
       "      <td>-20.724125</td>\n",
       "    </tr>\n",
       "    <tr>\n",
       "      <th>50%</th>\n",
       "      <td>455104.639118</td>\n",
       "      <td>6.786013e+06</td>\n",
       "      <td>164.973198</td>\n",
       "      <td>189.382164</td>\n",
       "      <td>-11.285827</td>\n",
       "    </tr>\n",
       "    <tr>\n",
       "      <th>75%</th>\n",
       "      <td>456730.865049</td>\n",
       "      <td>6.786874e+06</td>\n",
       "      <td>186.920994</td>\n",
       "      <td>202.515072</td>\n",
       "      <td>3.059437</td>\n",
       "    </tr>\n",
       "    <tr>\n",
       "      <th>max</th>\n",
       "      <td>457762.825164</td>\n",
       "      <td>6.788725e+06</td>\n",
       "      <td>206.482803</td>\n",
       "      <td>222.614792</td>\n",
       "      <td>7.997482</td>\n",
       "    </tr>\n",
       "  </tbody>\n",
       "</table>\n",
       "</div>"
      ],
      "text/plain": [
       "                   x             y      t_tops      t_surf      delta\n",
       "count      12.000000  1.200000e+01   12.000000   12.000000  12.000000\n",
       "mean   455053.441542  6.785521e+06  170.224576  181.063995 -10.839419\n",
       "std      2105.747911  2.017564e+03   21.867723   30.766475  14.476348\n",
       "min    451496.662828  6.781788e+06  131.527908  128.291351 -34.571121\n",
       "25%    453413.576531  6.784063e+06  155.526306  149.616352 -20.724125\n",
       "50%    455104.639118  6.786013e+06  164.973198  189.382164 -11.285827\n",
       "75%    456730.865049  6.786874e+06  186.920994  202.515072   3.059437\n",
       "max    457762.825164  6.788725e+06  206.482803  222.614792   7.997482"
      ]
     },
     "execution_count": 17,
     "metadata": {},
     "output_type": "execute_result"
    }
   ],
   "source": [
    "df_join.describe()"
   ]
  },
  {
   "cell_type": "markdown",
   "metadata": {},
   "source": [
    "## First degree regression and residual without anomalous point"
   ]
  },
  {
   "cell_type": "code",
   "execution_count": 18,
   "metadata": {},
   "outputs": [
    {
     "name": "stdout",
     "output_type": "stream",
     "text": [
      "Data CC: 0.903107703194117\n",
      "\n",
      "Reggresion equation (y):  \n",
      "1.271 x - 35.23\n",
      "\n",
      "Regresion errors\n",
      "MSE: 159.99984065968795\n",
      "R2: 0.815603523568553\n"
     ]
    }
   ],
   "source": [
    "print('Data CC:', df_join.t_tops.corr(df_join.t_surf))\n",
    "print()\n",
    "\n",
    "newy1, e, mse, r2= reg(df_join.t_tops, df_join.t_surf, 1)\n",
    "print('Reggresion equation (y):', newy1)\n",
    "print()\n",
    "\n",
    "print('Regresion errors')\n",
    "print('MSE:' , mse)\n",
    "print('R2:' , r2)"
   ]
  },
  {
   "cell_type": "code",
   "execution_count": 19,
   "metadata": {},
   "outputs": [
    {
     "data": {
      "image/png": "[encoded data removed]",
      "text/plain": [
       "<Figure size 792x792 with 2 Axes>"
      ]
     },
     "metadata": {
      "needs_background": "light"
     },
     "output_type": "display_data"
    }
   ],
   "source": [
    "plt.figure(4, figsize=(11, 11))\n",
    "\n",
    "plt.subplot(2, 1, 1)\n",
    "plt.scatter(df_join.t_tops, df_join.t_surf)\n",
    "plt.plot(x, newy1(x), color='black', label='Regression')\n",
    "plt.text(170, 160, 'y = '+str(newy1)[2:])\n",
    "plt.ylabel('Thickness from surface (feet)')\n",
    "plt.axis([100, 240, 100, 240])\n",
    "plt.grid(True)\n",
    "plt.legend()\n",
    "\n",
    "plt.subplot(2, 1, 2)\n",
    "plt.scatter(df_join.t_tops, e)\n",
    "plt.axhline(y=np.mean(e), color='black', label=\"Mean of residual\")\n",
    "plt.xlim(100, 240)\n",
    "plt.xlabel('Thickness from tops (feet)')\n",
    "plt.ylabel('Residual')\n",
    "plt.grid(True)\n",
    "plt.legend();"
   ]
  },
  {
   "cell_type": "markdown",
   "metadata": {},
   "source": [
    "## Second degree polynomial\n",
    "\n",
    "You can see that the errors improves even more with a second degree polynomial"
   ]
  },
  {
   "cell_type": "code",
   "execution_count": 22,
   "metadata": {},
   "outputs": [
    {
     "name": "stdout",
     "output_type": "stream",
     "text": [
      "Data CC: 0.903107703194117\n",
      "\n",
      "Reggresion equation (y):            2\n",
      "-0.008219 x + 4.096 x - 274.5\n",
      "\n",
      "Regresion errors\n",
      "MSE: 144.11349948564896\n",
      "R2: 0.8339122001509959\n"
     ]
    }
   ],
   "source": [
    "print('Data CC:', df_join.t_tops.corr(df_join.t_surf))\n",
    "print()\n",
    "\n",
    "newy2, e, mse, r2= reg(df_join.t_tops, df_join.t_surf, 2)\n",
    "print('Reggresion equation (y):', newy2)\n",
    "print()\n",
    "\n",
    "print('Regresion errors')\n",
    "print('MSE:' , mse)\n",
    "print('R2:' , r2)"
   ]
  },
  {
   "cell_type": "code",
   "execution_count": 23,
   "metadata": {},
   "outputs": [
    {
     "data": {
      "image/png": "[encoded data removed]",
      "text/plain": [
       "<Figure size 792x792 with 2 Axes>"
      ]
     },
     "metadata": {
      "needs_background": "light"
     },
     "output_type": "display_data"
    }
   ],
   "source": [
    "x = np.arange(0, 240, 1)\n",
    "\n",
    "plt.figure(3, figsize=(11, 11))\n",
    "\n",
    "plt.subplot(2, 1, 1)\n",
    "plt.scatter(df_join.t_tops, df_join.t_surf)\n",
    "plt.plot(x, newy2(x), color='black', label='Regression')\n",
    "plt.text(170, 160, 'y = '+str(newy2)[2:])\n",
    "plt.ylabel('Thickness from surface (feet)')\n",
    "plt.axis([100, 240, 100, 240])\n",
    "plt.grid(True)\n",
    "plt.legend()\n",
    "\n",
    "plt.subplot(2, 1, 2)\n",
    "plt.scatter(df_join.t_tops, e)\n",
    "plt.axhline(y=np.mean(e), color='black', label=\"Mean of residual\")\n",
    "plt.xlim(100, 240)\n",
    "plt.xlabel('Thickness from tops (feet)')\n",
    "plt.ylabel('Residual')\n",
    "plt.grid(True)\n",
    "plt.legend();"
   ]
  },
  {
   "cell_type": "markdown",
   "metadata": {},
   "source": [
    "In this case, base on the regression metrics, the second degree regression appears to be better. The regression and residual plots also suggest that. "
   ]
  },
  {
   "cell_type": "code",
   "execution_count": null,
   "metadata": {},
   "outputs": [],
   "source": []
  }
 ],
 "metadata": {
  "kernelspec": {
   "display_name": "Python 3",
   "language": "python",
   "name": "python3"
  },
  "language_info": {
   "codemirror_mode": {
    "name": "ipython",
    "version": 3
   },
   "file_extension": ".py",
   "mimetype": "text/x-python",
   "name": "python",
   "nbconvert_exporter": "python",
   "pygments_lexer": "ipython3",
   "version": "3.8.6"
  },
  "varInspector": {
   "cols": {
    "lenName": 16,
    "lenType": 16,
    "lenVar": 40
   },
   "kernels_config": {
    "python": {
     "delete_cmd_postfix": "",
     "delete_cmd_prefix": "del ",
     "library": "var_list.py",
     "varRefreshCmd": "print(var_dic_list())"
    },
    "r": {
     "delete_cmd_postfix": ") ",
     "delete_cmd_prefix": "rm(",
     "library": "var_list.r",
     "varRefreshCmd": "cat(var_dic_list()) "
    }
   },
   "types_to_exclude": [
    "module",
    "function",
    "builtin_function_or_method",
    "instance",
    "_Feature"
   ],
   "window_display": false
  }
 },
 "nbformat": 4,
 "nbformat_minor": 4
}
